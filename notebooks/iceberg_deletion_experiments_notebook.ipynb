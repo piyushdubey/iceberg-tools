{
 "cells": [
  {
   "cell_type": "markdown",
   "id": "1041ae6f",
   "metadata": {},
   "source": [
    "![iceberg-logo](https://www.apache.org/logos/res/iceberg/iceberg.png)"
   ]
  },
  {
   "cell_type": "markdown",
   "id": "247fb2ab",
   "metadata": {},
   "source": [
    "# Iceberg V2 Position Delete Experiments [piyushdubey]\n",
    "\n",
    "## Get or Create Spark Session"
   ]
  },
  {
   "cell_type": "code",
   "execution_count": 151,
   "id": "4a22fe9e-09f6-4d46-a667-4eb8529161d8",
   "metadata": {},
   "outputs": [
    {
     "name": "stderr",
     "output_type": "stream",
     "text": [
      "25/09/29 20:26:09 WARN SparkSession: Using an existing Spark session; only runtime SQL configurations will take effect.\n"
     ]
    },
    {
     "data": {
      "text/html": [
       "\n",
       "            <div>\n",
       "                <p><b>SparkSession - in-memory</b></p>\n",
       "                \n",
       "        <div>\n",
       "            <p><b>SparkContext</b></p>\n",
       "\n",
       "            <p><a href=\"http://b893fa5d956d:4042\">Spark UI</a></p>\n",
       "\n",
       "            <dl>\n",
       "              <dt>Version</dt>\n",
       "                <dd><code>v3.5.5</code></dd>\n",
       "              <dt>Master</dt>\n",
       "                <dd><code>local[*]</code></dd>\n",
       "              <dt>AppName</dt>\n",
       "                <dd><code>PySparkShell</code></dd>\n",
       "            </dl>\n",
       "        </div>\n",
       "        \n",
       "            </div>\n",
       "        "
      ],
      "text/plain": [
       "<pyspark.sql.session.SparkSession at 0x7f56cc2b9810>"
      ]
     },
     "execution_count": 151,
     "metadata": {},
     "output_type": "execute_result"
    }
   ],
   "source": [
    "from pyspark.sql import SparkSession\n",
    "from pyspark.conf import SparkConf\n",
    "\n",
    "# Configure Spark for Iceberg with position delete support\n",
    "conf = SparkConf()\n",
    "conf.set(\"spark.sql.extensions\", \"org.apache.iceberg.spark.extensions.IcebergSparkSessionExtensions\")\n",
    "conf.set(\"spark.sql.catalog.spark_catalog\", \"org.apache.iceberg.spark.SparkSessionCatalog\")\n",
    "conf.set(\"spark.sql.catalog.spark_catalog.type\", \"hive\")\n",
    "conf.set(\"spark.sql.catalog.local\", \"org.apache.iceberg.spark.SparkCatalog\")\n",
    "conf.set(\"spark.sql.catalog.local.type\", \"hadoop\")\n",
    "conf.set(\"spark.sql.catalog.local.warehouse\", \"file:///tmp/warehouse\")\n",
    "\n",
    "# Key settings for position deletes\n",
    "conf.set(\"spark.sql.iceberg.delete.mode\", \"merge-on-read\")\n",
    "conf.set(\"spark.sql.iceberg.delete.granularity\", \"file\")\n",
    "\n",
    "spark = SparkSession.builder \\\n",
    "    .appName(\"IcebergPositionDeletes\") \\\n",
    "    .config(conf=conf) \\\n",
    "    .getOrCreate()\n",
    "\n",
    "spark"
   ]
  },
  {
   "cell_type": "markdown",
   "id": "6f9a9f41",
   "metadata": {},
   "source": [
    "## Create Database"
   ]
  },
  {
   "cell_type": "code",
   "execution_count": 152,
   "id": "15997363-e13a-4c86-b271-ac45ed80458a",
   "metadata": {},
   "outputs": [
    {
     "name": "stderr",
     "output_type": "stream",
     "text": [
      "25/09/29 20:26:15 WARN SparkSession: Using an existing Spark session; only runtime SQL configurations will take effect.\n"
     ]
    },
    {
     "data": {
      "text/html": [
       "<table>\n",
       "    <thead>\n",
       "        <tr>\n",
       "        </tr>\n",
       "    </thead>\n",
       "    <tbody>\n",
       "    </tbody>\n",
       "</table>"
      ],
      "text/plain": [
       "++\n",
       "||\n",
       "++\n",
       "++"
      ]
     },
     "execution_count": 152,
     "metadata": {},
     "output_type": "execute_result"
    }
   ],
   "source": [
    "%%sql\n",
    "\n",
    "CREATE DATABASE IF NOT EXISTS nyc"
   ]
  },
  {
   "cell_type": "code",
   "execution_count": 154,
   "id": "d0363809-bb19-4ed4-95ac-52f11f202700",
   "metadata": {},
   "outputs": [],
   "source": [
    "## Drop Table"
   ]
  },
  {
   "cell_type": "code",
   "execution_count": 155,
   "id": "ec6fc710-5ae0-4ad0-8a9f-506515657a3f",
   "metadata": {},
   "outputs": [
    {
     "data": {
      "text/html": [
       "<table>\n",
       "    <thead>\n",
       "        <tr>\n",
       "        </tr>\n",
       "    </thead>\n",
       "    <tbody>\n",
       "    </tbody>\n",
       "</table>"
      ],
      "text/plain": [
       "++\n",
       "||\n",
       "++\n",
       "++"
      ]
     },
     "execution_count": 155,
     "metadata": {},
     "output_type": "execute_result"
    }
   ],
   "source": [
    "%%sql\n",
    "\n",
    "DROP TABLE IF EXISTS nyc.taxis"
   ]
  },
  {
   "cell_type": "code",
   "execution_count": 156,
   "id": "551c6b5c-25f1-4aa2-9fdf-650b1aaf1673",
   "metadata": {},
   "outputs": [],
   "source": [
    "## Create Table"
   ]
  },
  {
   "cell_type": "code",
   "execution_count": 157,
   "id": "c60b9913-4b4a-4e10-b91e-d58eea71e481",
   "metadata": {},
   "outputs": [
    {
     "data": {
      "text/html": [
       "<table>\n",
       "    <thead>\n",
       "        <tr>\n",
       "        </tr>\n",
       "    </thead>\n",
       "    <tbody>\n",
       "    </tbody>\n",
       "</table>"
      ],
      "text/plain": [
       "++\n",
       "||\n",
       "++\n",
       "++"
      ]
     },
     "execution_count": 157,
     "metadata": {},
     "output_type": "execute_result"
    }
   ],
   "source": [
    "%%sql\n",
    "\n",
    "CREATE TABLE nyc.taxis (\n",
    "    VendorID bigint,\n",
    "    tpep_pickup_datetime timestamp,\n",
    "    tpep_dropoff_datetime timestamp,\n",
    "    passenger_count double,\n",
    "    trip_distance double,\n",
    "    RatecodeID double,\n",
    "    store_and_fwd_flag string,\n",
    "    PULocationID bigint,\n",
    "    DOLocationID bigint,\n",
    "    payment_type bigint,\n",
    "    fare_amount double,\n",
    "    extra double,\n",
    "    mta_tax double,\n",
    "    tip_amount double,\n",
    "    tolls_amount double,\n",
    "    improvement_surcharge double,\n",
    "    total_amount double,\n",
    "    congestion_surcharge double,\n",
    "    airport_fee double\n",
    ") USING ICEBERG\n",
    "TBLPROPERTIES (\n",
    "    'format-version' = '2',\n",
    "    'write.delete.mode' = 'merge-on-read',\n",
    "    'write.delete.granularity' = 'file',\n",
    "    'write.merge.mode' = 'merge-on-read'\n",
    ")"
   ]
  },
  {
   "cell_type": "code",
   "execution_count": 158,
   "id": "89c55cbc-e6e0-4d72-9b18-3bc4d8c3580a",
   "metadata": {},
   "outputs": [
    {
     "name": "stderr",
     "output_type": "stream",
     "text": [
      "                                                                                "
     ]
    }
   ],
   "source": [
    "# Load data from parquet with explicit Iceberg properties\n",
    "df = spark.read.parquet(\"/home/iceberg/data/yellow_tripdata_2021-04.parquet\")\n",
    "\n",
    "# Option 1: Use DataFrame API with explicit properties\n",
    "df.write \\\n",
    "    .format(\"iceberg\") \\\n",
    "    .option(\"write.delete.mode\", \"merge-on-read\") \\\n",
    "    .option(\"write.delete.granularity\", \"file\") \\\n",
    "    .option(\"format-version\", \"2\") \\\n",
    "    .mode(\"append\") \\\n",
    "    .saveAsTable(\"nyc.taxis\")"
   ]
  },
  {
   "cell_type": "code",
   "execution_count": 159,
   "id": "228a0e5a-e285-43a2-b12f-191a19ef4e7d",
   "metadata": {},
   "outputs": [
    {
     "data": {
      "text/html": [
       "<table>\n",
       "    <thead>\n",
       "        <tr>\n",
       "            <th>col_name</th>\n",
       "            <th>data_type</th>\n",
       "            <th>comment</th>\n",
       "        </tr>\n",
       "    </thead>\n",
       "    <tbody>\n",
       "        <tr>\n",
       "            <td>VendorID</td>\n",
       "            <td>bigint</td>\n",
       "            <td>None</td>\n",
       "        </tr>\n",
       "        <tr>\n",
       "            <td>tpep_pickup_datetime</td>\n",
       "            <td>timestamp</td>\n",
       "            <td>None</td>\n",
       "        </tr>\n",
       "        <tr>\n",
       "            <td>tpep_dropoff_datetime</td>\n",
       "            <td>timestamp</td>\n",
       "            <td>None</td>\n",
       "        </tr>\n",
       "        <tr>\n",
       "            <td>passenger_count</td>\n",
       "            <td>double</td>\n",
       "            <td>None</td>\n",
       "        </tr>\n",
       "        <tr>\n",
       "            <td>trip_distance</td>\n",
       "            <td>double</td>\n",
       "            <td>None</td>\n",
       "        </tr>\n",
       "        <tr>\n",
       "            <td>RatecodeID</td>\n",
       "            <td>double</td>\n",
       "            <td>None</td>\n",
       "        </tr>\n",
       "        <tr>\n",
       "            <td>store_and_fwd_flag</td>\n",
       "            <td>string</td>\n",
       "            <td>None</td>\n",
       "        </tr>\n",
       "        <tr>\n",
       "            <td>PULocationID</td>\n",
       "            <td>bigint</td>\n",
       "            <td>None</td>\n",
       "        </tr>\n",
       "        <tr>\n",
       "            <td>DOLocationID</td>\n",
       "            <td>bigint</td>\n",
       "            <td>None</td>\n",
       "        </tr>\n",
       "        <tr>\n",
       "            <td>payment_type</td>\n",
       "            <td>bigint</td>\n",
       "            <td>None</td>\n",
       "        </tr>\n",
       "        <tr>\n",
       "            <td>fare_amount</td>\n",
       "            <td>double</td>\n",
       "            <td>None</td>\n",
       "        </tr>\n",
       "        <tr>\n",
       "            <td>extra</td>\n",
       "            <td>double</td>\n",
       "            <td>None</td>\n",
       "        </tr>\n",
       "        <tr>\n",
       "            <td>mta_tax</td>\n",
       "            <td>double</td>\n",
       "            <td>None</td>\n",
       "        </tr>\n",
       "        <tr>\n",
       "            <td>tip_amount</td>\n",
       "            <td>double</td>\n",
       "            <td>None</td>\n",
       "        </tr>\n",
       "        <tr>\n",
       "            <td>tolls_amount</td>\n",
       "            <td>double</td>\n",
       "            <td>None</td>\n",
       "        </tr>\n",
       "        <tr>\n",
       "            <td>improvement_surcharge</td>\n",
       "            <td>double</td>\n",
       "            <td>None</td>\n",
       "        </tr>\n",
       "        <tr>\n",
       "            <td>total_amount</td>\n",
       "            <td>double</td>\n",
       "            <td>None</td>\n",
       "        </tr>\n",
       "        <tr>\n",
       "            <td>congestion_surcharge</td>\n",
       "            <td>double</td>\n",
       "            <td>None</td>\n",
       "        </tr>\n",
       "        <tr>\n",
       "            <td>airport_fee</td>\n",
       "            <td>double</td>\n",
       "            <td>None</td>\n",
       "        </tr>\n",
       "        <tr>\n",
       "            <td></td>\n",
       "            <td></td>\n",
       "            <td></td>\n",
       "        </tr>\n",
       "        <tr>\n",
       "            <td># Metadata Columns</td>\n",
       "            <td></td>\n",
       "            <td></td>\n",
       "        </tr>\n",
       "        <tr>\n",
       "            <td>_spec_id</td>\n",
       "            <td>int</td>\n",
       "            <td></td>\n",
       "        </tr>\n",
       "        <tr>\n",
       "            <td>_partition</td>\n",
       "            <td>struct&lt;&gt;</td>\n",
       "            <td></td>\n",
       "        </tr>\n",
       "        <tr>\n",
       "            <td>_file</td>\n",
       "            <td>string</td>\n",
       "            <td></td>\n",
       "        </tr>\n",
       "        <tr>\n",
       "            <td>_pos</td>\n",
       "            <td>bigint</td>\n",
       "            <td></td>\n",
       "        </tr>\n",
       "        <tr>\n",
       "            <td>_deleted</td>\n",
       "            <td>boolean</td>\n",
       "            <td></td>\n",
       "        </tr>\n",
       "        <tr>\n",
       "            <td></td>\n",
       "            <td></td>\n",
       "            <td></td>\n",
       "        </tr>\n",
       "        <tr>\n",
       "            <td># Detailed Table Information</td>\n",
       "            <td></td>\n",
       "            <td></td>\n",
       "        </tr>\n",
       "        <tr>\n",
       "            <td>Name</td>\n",
       "            <td>demo.nyc.taxis</td>\n",
       "            <td></td>\n",
       "        </tr>\n",
       "        <tr>\n",
       "            <td>Type</td>\n",
       "            <td>MANAGED</td>\n",
       "            <td></td>\n",
       "        </tr>\n",
       "        <tr>\n",
       "            <td>Location</td>\n",
       "            <td>s3://warehouse/nyc/taxis</td>\n",
       "            <td></td>\n",
       "        </tr>\n",
       "        <tr>\n",
       "            <td>Provider</td>\n",
       "            <td>iceberg</td>\n",
       "            <td></td>\n",
       "        </tr>\n",
       "        <tr>\n",
       "            <td>Owner</td>\n",
       "            <td>root</td>\n",
       "            <td></td>\n",
       "        </tr>\n",
       "        <tr>\n",
       "            <td>Table Properties</td>\n",
       "            <td>[current-snapshot-id=3140210862407448962,format=iceberg/parquet,format-version=2,write.delete.granularity=file,write.delete.mode=merge-on-read,write.merge.mode=merge-on-read,write.parquet.compression-codec=zstd]</td>\n",
       "            <td></td>\n",
       "        </tr>\n",
       "    </tbody>\n",
       "</table>"
      ],
      "text/plain": [
       "+------------------------------+---------------------------------------------------------------------------------------------------------------------------------------------------------------------------------------------------------------------+---------+\n",
       "|                     col_name |                                                                                                                                                                                                           data_type | comment |\n",
       "+------------------------------+---------------------------------------------------------------------------------------------------------------------------------------------------------------------------------------------------------------------+---------+\n",
       "|                     VendorID |                                                                                                                                                                                                              bigint |    None |\n",
       "|         tpep_pickup_datetime |                                                                                                                                                                                                           timestamp |    None |\n",
       "|        tpep_dropoff_datetime |                                                                                                                                                                                                           timestamp |    None |\n",
       "|              passenger_count |                                                                                                                                                                                                              double |    None |\n",
       "|                trip_distance |                                                                                                                                                                                                              double |    None |\n",
       "|                   RatecodeID |                                                                                                                                                                                                              double |    None |\n",
       "|           store_and_fwd_flag |                                                                                                                                                                                                              string |    None |\n",
       "|                 PULocationID |                                                                                                                                                                                                              bigint |    None |\n",
       "|                 DOLocationID |                                                                                                                                                                                                              bigint |    None |\n",
       "|                 payment_type |                                                                                                                                                                                                              bigint |    None |\n",
       "|                  fare_amount |                                                                                                                                                                                                              double |    None |\n",
       "|                        extra |                                                                                                                                                                                                              double |    None |\n",
       "|                      mta_tax |                                                                                                                                                                                                              double |    None |\n",
       "|                   tip_amount |                                                                                                                                                                                                              double |    None |\n",
       "|                 tolls_amount |                                                                                                                                                                                                              double |    None |\n",
       "|        improvement_surcharge |                                                                                                                                                                                                              double |    None |\n",
       "|                 total_amount |                                                                                                                                                                                                              double |    None |\n",
       "|         congestion_surcharge |                                                                                                                                                                                                              double |    None |\n",
       "|                  airport_fee |                                                                                                                                                                                                              double |    None |\n",
       "|                              |                                                                                                                                                                                                                     |         |\n",
       "|           # Metadata Columns |                                                                                                                                                                                                                     |         |\n",
       "|                     _spec_id |                                                                                                                                                                                                                 int |         |\n",
       "|                   _partition |                                                                                                                                                                                                            struct<> |         |\n",
       "|                        _file |                                                                                                                                                                                                              string |         |\n",
       "|                         _pos |                                                                                                                                                                                                              bigint |         |\n",
       "|                     _deleted |                                                                                                                                                                                                             boolean |         |\n",
       "|                              |                                                                                                                                                                                                                     |         |\n",
       "| # Detailed Table Information |                                                                                                                                                                                                                     |         |\n",
       "|                         Name |                                                                                                                                                                                                      demo.nyc.taxis |         |\n",
       "|                         Type |                                                                                                                                                                                                             MANAGED |         |\n",
       "|                     Location |                                                                                                                                                                                            s3://warehouse/nyc/taxis |         |\n",
       "|                     Provider |                                                                                                                                                                                                             iceberg |         |\n",
       "|                        Owner |                                                                                                                                                                                                                root |         |\n",
       "|             Table Properties | [current-snapshot-id=3140210862407448962,format=iceberg/parquet,format-version=2,write.delete.granularity=file,write.delete.mode=merge-on-read,write.merge.mode=merge-on-read,write.parquet.compression-codec=zstd] |         |\n",
       "+------------------------------+---------------------------------------------------------------------------------------------------------------------------------------------------------------------------------------------------------------------+---------+"
      ]
     },
     "execution_count": 159,
     "metadata": {},
     "output_type": "execute_result"
    }
   ],
   "source": [
    "%%sql\n",
    "\n",
    "DESCRIBE EXTENDED nyc.taxis"
   ]
  },
  {
   "cell_type": "code",
   "execution_count": 160,
   "id": "1c40f2ee-bed9-447e-8c1e-488cae5c4b5d",
   "metadata": {},
   "outputs": [
    {
     "data": {
      "text/html": [
       "<table>\n",
       "    <thead>\n",
       "        <tr>\n",
       "            <th>total_records</th>\n",
       "        </tr>\n",
       "    </thead>\n",
       "    <tbody>\n",
       "        <tr>\n",
       "            <td>2171187</td>\n",
       "        </tr>\n",
       "    </tbody>\n",
       "</table>"
      ],
      "text/plain": [
       "+---------------+\n",
       "| total_records |\n",
       "+---------------+\n",
       "|       2171187 |\n",
       "+---------------+"
      ]
     },
     "execution_count": 160,
     "metadata": {},
     "output_type": "execute_result"
    }
   ],
   "source": [
    "%%sql\n",
    "\n",
    "SELECT COUNT(*) as total_records\n",
    "FROM nyc.taxis"
   ]
  },
  {
   "cell_type": "code",
   "execution_count": 161,
   "id": "3f9ca89c-8d18-4c4e-b4cc-c2e198d4fcf9",
   "metadata": {},
   "outputs": [],
   "source": [
    "# Verify Table Properties for Position Deletes"
   ]
  },
  {
   "cell_type": "code",
   "execution_count": 162,
   "id": "9fddb808",
   "metadata": {},
   "outputs": [
    {
     "data": {
      "text/html": [
       "<table>\n",
       "    <thead>\n",
       "        <tr>\n",
       "            <th>key</th>\n",
       "            <th>value</th>\n",
       "        </tr>\n",
       "    </thead>\n",
       "    <tbody>\n",
       "        <tr>\n",
       "            <td>current-snapshot-id</td>\n",
       "            <td>3140210862407448962</td>\n",
       "        </tr>\n",
       "        <tr>\n",
       "            <td>format</td>\n",
       "            <td>iceberg/parquet</td>\n",
       "        </tr>\n",
       "        <tr>\n",
       "            <td>format-version</td>\n",
       "            <td>2</td>\n",
       "        </tr>\n",
       "        <tr>\n",
       "            <td>write.delete.granularity</td>\n",
       "            <td>file</td>\n",
       "        </tr>\n",
       "        <tr>\n",
       "            <td>write.delete.mode</td>\n",
       "            <td>merge-on-read</td>\n",
       "        </tr>\n",
       "        <tr>\n",
       "            <td>write.merge.mode</td>\n",
       "            <td>merge-on-read</td>\n",
       "        </tr>\n",
       "        <tr>\n",
       "            <td>write.parquet.compression-codec</td>\n",
       "            <td>zstd</td>\n",
       "        </tr>\n",
       "    </tbody>\n",
       "</table>"
      ],
      "text/plain": [
       "+---------------------------------+---------------------+\n",
       "|                             key |               value |\n",
       "+---------------------------------+---------------------+\n",
       "|             current-snapshot-id | 3140210862407448962 |\n",
       "|                          format |     iceberg/parquet |\n",
       "|                  format-version |                   2 |\n",
       "|        write.delete.granularity |                file |\n",
       "|               write.delete.mode |       merge-on-read |\n",
       "|                write.merge.mode |       merge-on-read |\n",
       "| write.parquet.compression-codec |                zstd |\n",
       "+---------------------------------+---------------------+"
      ]
     },
     "execution_count": 162,
     "metadata": {},
     "output_type": "execute_result"
    }
   ],
   "source": [
    "%%sql\n",
    "\n",
    "SHOW TBLPROPERTIES nyc.taxis"
   ]
  },
  {
   "cell_type": "markdown",
   "id": "bf1d58ad-5cc1-4e8c-9d7b-a54e67def783",
   "metadata": {},
   "source": [
    "# See current Snapshot"
   ]
  },
  {
   "cell_type": "code",
   "execution_count": 163,
   "id": "47e5a21d-de87-4aaf-aa06-dc5048acba58",
   "metadata": {},
   "outputs": [
    {
     "data": {
      "text/html": [
       "<table>\n",
       "    <thead>\n",
       "        <tr>\n",
       "            <th>snapshot_id</th>\n",
       "            <th>committed_at</th>\n",
       "            <th>operation</th>\n",
       "            <th>summary</th>\n",
       "            <th>manifest_list</th>\n",
       "            <th>parent_id</th>\n",
       "        </tr>\n",
       "    </thead>\n",
       "    <tbody>\n",
       "        <tr>\n",
       "            <td>3140210862407448962</td>\n",
       "            <td>2025-09-29 20:26:46.470000</td>\n",
       "            <td>append</td>\n",
       "            <td>{&#x27;engine-version&#x27;: &#x27;3.5.5&#x27;, &#x27;added-data-files&#x27;: &#x27;1&#x27;, &#x27;total-equality-deletes&#x27;: &#x27;0&#x27;, &#x27;app-id&#x27;: &#x27;local-1759164025940&#x27;, &#x27;added-records&#x27;: &#x27;2171187&#x27;, &#x27;total-records&#x27;: &#x27;2171187&#x27;, &#x27;spark.app.id&#x27;: &#x27;local-1759164025940&#x27;, &#x27;changed-partition-count&#x27;: &#x27;1&#x27;, &#x27;engine-name&#x27;: &#x27;spark&#x27;, &#x27;total-position-deletes&#x27;: &#x27;0&#x27;, &#x27;added-files-size&#x27;: &#x27;33941643&#x27;, &#x27;total-delete-files&#x27;: &#x27;0&#x27;, &#x27;iceberg-version&#x27;: &#x27;Apache Iceberg 1.8.1 (commit 9ce0fcf0af7becf25ad9fc996c3bad2afdcfd33d)&#x27;, &#x27;total-files-size&#x27;: &#x27;33941643&#x27;, &#x27;total-data-files&#x27;: &#x27;1&#x27;}</td>\n",
       "            <td>s3://warehouse/nyc/taxis/metadata/snap-3140210862407448962-1-2ab5b6cb-83b7-4b48-ba71-e21451f3a8c5.avro</td>\n",
       "            <td>None</td>\n",
       "        </tr>\n",
       "    </tbody>\n",
       "</table>"
      ],
      "text/plain": [
       "+---------------------+----------------------------+-----------+-----------------------------------------------------------------------------------------------------------------------------------------------------------------------------------------------------------------------------------------------------------------------------------------------------------------------------------------------------------------------------------------------------------------------------------------------------------------------------------------------------------------------------+--------------------------------------------------------------------------------------------------------+-----------+\n",
       "|         snapshot_id |               committed_at | operation |                                                                                                                                                                                                                                                                                                                                                                                                                                                                                                                     summary |                                                                                          manifest_list | parent_id |\n",
       "+---------------------+----------------------------+-----------+-----------------------------------------------------------------------------------------------------------------------------------------------------------------------------------------------------------------------------------------------------------------------------------------------------------------------------------------------------------------------------------------------------------------------------------------------------------------------------------------------------------------------------+--------------------------------------------------------------------------------------------------------+-----------+\n",
       "| 3140210862407448962 | 2025-09-29 20:26:46.470000 |    append | {'engine-version': '3.5.5', 'added-data-files': '1', 'total-equality-deletes': '0', 'app-id': 'local-1759164025940', 'added-records': '2171187', 'total-records': '2171187', 'spark.app.id': 'local-1759164025940', 'changed-partition-count': '1', 'engine-name': 'spark', 'total-position-deletes': '0', 'added-files-size': '33941643', 'total-delete-files': '0', 'iceberg-version': 'Apache Iceberg 1.8.1 (commit 9ce0fcf0af7becf25ad9fc996c3bad2afdcfd33d)', 'total-files-size': '33941643', 'total-data-files': '1'} | s3://warehouse/nyc/taxis/metadata/snap-3140210862407448962-1-2ab5b6cb-83b7-4b48-ba71-e21451f3a8c5.avro |      None |\n",
       "+---------------------+----------------------------+-----------+-----------------------------------------------------------------------------------------------------------------------------------------------------------------------------------------------------------------------------------------------------------------------------------------------------------------------------------------------------------------------------------------------------------------------------------------------------------------------------------------------------------------------------+--------------------------------------------------------------------------------------------------------+-----------+"
      ]
     },
     "execution_count": 163,
     "metadata": {},
     "output_type": "execute_result"
    }
   ],
   "source": [
    "%%sql\n",
    "\n",
    "SELECT\n",
    "    snapshot_id,\n",
    "    committed_at,\n",
    "    operation,\n",
    "    summary,\n",
    "    manifest_list, \n",
    "    parent_id\n",
    "FROM nyc.taxis.snapshots\n",
    "ORDER BY committed_at DESC"
   ]
  },
  {
   "cell_type": "code",
   "execution_count": 170,
   "id": "8008738e-e517-44ad-808c-e2fb47092965",
   "metadata": {},
   "outputs": [],
   "source": [
    "# Check data files"
   ]
  },
  {
   "cell_type": "code",
   "execution_count": 164,
   "id": "6a3bf63f-2c6f-468f-9220-2e7edbb27bb4",
   "metadata": {},
   "outputs": [
    {
     "data": {
      "text/html": [
       "<table>\n",
       "    <thead>\n",
       "        <tr>\n",
       "            <th>content</th>\n",
       "            <th>file_path</th>\n",
       "            <th>file_format</th>\n",
       "            <th>record_count</th>\n",
       "        </tr>\n",
       "    </thead>\n",
       "    <tbody>\n",
       "        <tr>\n",
       "            <td>0</td>\n",
       "            <td>s3://warehouse/nyc/taxis/data/00004-146-8a5378d0-7550-409e-8873-eba1d545133b-0-00001.parquet</td>\n",
       "            <td>PARQUET</td>\n",
       "            <td>2171187</td>\n",
       "        </tr>\n",
       "    </tbody>\n",
       "</table>"
      ],
      "text/plain": [
       "+---------+----------------------------------------------------------------------------------------------+-------------+--------------+\n",
       "| content |                                                                                    file_path | file_format | record_count |\n",
       "+---------+----------------------------------------------------------------------------------------------+-------------+--------------+\n",
       "|       0 | s3://warehouse/nyc/taxis/data/00004-146-8a5378d0-7550-409e-8873-eba1d545133b-0-00001.parquet |     PARQUET |      2171187 |\n",
       "+---------+----------------------------------------------------------------------------------------------+-------------+--------------+"
      ]
     },
     "execution_count": 164,
     "metadata": {},
     "output_type": "execute_result"
    }
   ],
   "source": [
    "%%sql\n",
    "\n",
    "-- Check data files before deletion\n",
    "\n",
    "SELECT \n",
    "    content, \n",
    "    file_path, \n",
    "    file_format, \n",
    "    record_count\n",
    "FROM nyc.taxis.files\n",
    "WHERE content = 0  -- 0 = DATA, 1 = POSITION_DELETES, 2 = EQUALITY_DELETES"
   ]
  },
  {
   "cell_type": "markdown",
   "id": "d612c035-4cf6-47a0-844b-165dfb463bbc",
   "metadata": {},
   "source": [
    "# Delete a few rows"
   ]
  },
  {
   "cell_type": "code",
   "execution_count": 165,
   "id": "efee8252",
   "metadata": {
    "pycharm": {
     "name": "#%%\n"
    }
   },
   "outputs": [
    {
     "name": "stderr",
     "output_type": "stream",
     "text": [
      "                                                                                "
     ]
    },
    {
     "data": {
      "text/html": [
       "<table>\n",
       "    <thead>\n",
       "        <tr>\n",
       "        </tr>\n",
       "    </thead>\n",
       "    <tbody>\n",
       "    </tbody>\n",
       "</table>"
      ],
      "text/plain": [
       "++\n",
       "||\n",
       "++\n",
       "++"
      ]
     },
     "execution_count": 165,
     "metadata": {},
     "output_type": "execute_result"
    }
   ],
   "source": [
    "%%sql\n",
    "\n",
    "DELETE FROM nyc.taxis \n",
    "WHERE trip_distance > 1.0 AND trip_distance < 2.5"
   ]
  },
  {
   "cell_type": "code",
   "execution_count": 169,
   "id": "5eb2cfb6-76c0-4163-9977-78acfb9442f9",
   "metadata": {},
   "outputs": [],
   "source": [
    "## Delete some more rows"
   ]
  },
  {
   "cell_type": "code",
   "execution_count": 166,
   "id": "d893962c-e120-4e9f-8ce9-b26eebf0288a",
   "metadata": {
    "pycharm": {
     "name": "#%%\n"
    }
   },
   "outputs": [
    {
     "name": "stderr",
     "output_type": "stream",
     "text": [
      "                                                                                "
     ]
    },
    {
     "data": {
      "text/html": [
       "<table>\n",
       "    <thead>\n",
       "        <tr>\n",
       "        </tr>\n",
       "    </thead>\n",
       "    <tbody>\n",
       "    </tbody>\n",
       "</table>"
      ],
      "text/plain": [
       "++\n",
       "||\n",
       "++\n",
       "++"
      ]
     },
     "execution_count": 166,
     "metadata": {},
     "output_type": "execute_result"
    }
   ],
   "source": [
    "%%sql\n",
    "\n",
    "DELETE FROM nyc.taxis \n",
    "WHERE trip_distance > 5.0 AND trip_distance < 5.5"
   ]
  },
  {
   "cell_type": "code",
   "execution_count": 167,
   "id": "cca9eb37-9dfb-412c-939c-cb8cea81d18c",
   "metadata": {},
   "outputs": [],
   "source": [
    "# Verify records were deleted"
   ]
  },
  {
   "cell_type": "code",
   "execution_count": 168,
   "id": "7e7e7e33-ca37-41fe-9757-64dbf7572f2a",
   "metadata": {},
   "outputs": [
    {
     "data": {
      "text/html": [
       "<table>\n",
       "    <thead>\n",
       "        <tr>\n",
       "            <th>remaining_records</th>\n",
       "        </tr>\n",
       "    </thead>\n",
       "    <tbody>\n",
       "        <tr>\n",
       "            <td>1219294</td>\n",
       "        </tr>\n",
       "    </tbody>\n",
       "</table>"
      ],
      "text/plain": [
       "+-------------------+\n",
       "| remaining_records |\n",
       "+-------------------+\n",
       "|           1219294 |\n",
       "+-------------------+"
      ]
     },
     "execution_count": 168,
     "metadata": {},
     "output_type": "execute_result"
    }
   ],
   "source": [
    "%%sql\n",
    "\n",
    "SELECT COUNT(*) as remaining_records FROM nyc.taxis"
   ]
  },
  {
   "cell_type": "code",
   "execution_count": 145,
   "id": "9ce1cecc-8cb0-4622-b0eb-55880d091556",
   "metadata": {},
   "outputs": [],
   "source": [
    "# Inspect Position Delete Files"
   ]
  },
  {
   "cell_type": "code",
   "execution_count": 148,
   "id": "d12e34a2-f110-4c7b-aed1-d58a8c118d5c",
   "metadata": {},
   "outputs": [
    {
     "data": {
      "text/html": [
       "<table>\n",
       "    <thead>\n",
       "        <tr>\n",
       "            <th>content</th>\n",
       "            <th>file_path</th>\n",
       "            <th>file_format</th>\n",
       "            <th>record_count</th>\n",
       "            <th>file_size_in_bytes</th>\n",
       "        </tr>\n",
       "    </thead>\n",
       "    <tbody>\n",
       "        <tr>\n",
       "            <td>1</td>\n",
       "            <td>s3://warehouse/nyc/taxis/data/00000-125-54f5ec8b-9ac6-4e02-9953-1a416655bdeb-00001-deletes.parquet</td>\n",
       "            <td>PARQUET</td>\n",
       "            <td>262536</td>\n",
       "            <td>294761</td>\n",
       "        </tr>\n",
       "    </tbody>\n",
       "</table>"
      ],
      "text/plain": [
       "+---------+----------------------------------------------------------------------------------------------------+-------------+--------------+--------------------+\n",
       "| content |                                                                                          file_path | file_format | record_count | file_size_in_bytes |\n",
       "+---------+----------------------------------------------------------------------------------------------------+-------------+--------------+--------------------+\n",
       "|       1 | s3://warehouse/nyc/taxis/data/00000-125-54f5ec8b-9ac6-4e02-9953-1a416655bdeb-00001-deletes.parquet |     PARQUET |       262536 |             294761 |\n",
       "+---------+----------------------------------------------------------------------------------------------------+-------------+--------------+--------------------+"
      ]
     },
     "execution_count": 148,
     "metadata": {},
     "output_type": "execute_result"
    }
   ],
   "source": [
    "%%sql\n",
    "\n",
    "SELECT \n",
    "    content,\n",
    "    file_path,\n",
    "    file_format,\n",
    "    record_count,\n",
    "    file_size_in_bytes\n",
    "FROM nyc.taxis.files\n",
    "WHERE content = 1  -- 1 = POSITION_DELETES"
   ]
  },
  {
   "cell_type": "code",
   "execution_count": 137,
   "id": "d3d872ff-19a4-4208-8ba4-d51b20c5627c",
   "metadata": {},
   "outputs": [],
   "source": [
    "# Get Deleted Files Path"
   ]
  },
  {
   "cell_type": "code",
   "execution_count": 142,
   "id": "18d5fb33-d9b1-443e-ba4d-00ccbc7c0a0f",
   "metadata": {},
   "outputs": [
    {
     "ename": "ParseException",
     "evalue": "\n[PARSE_SYNTAX_ERROR] Syntax error at or near 'SELECT': extra input 'SELECT'.(line 6, pos 0)\n\n== SQL ==\n    \nSELECT \n    file_path \nFROM demo.nyc.taxis.files LIMIT 20;\n\nSELECT \n^^^\n    content, \n    file_path \nFROM demo.nyc.taxis.delete_files;\n\nDESCRIBE TABLE EXTENDED demo.nyc.taxis;\n",
     "output_type": "error",
     "traceback": [
      "\u001b[0;31m---------------------------------------------------------------------------\u001b[0m",
      "\u001b[0;31mParseException\u001b[0m                            Traceback (most recent call last)",
      "Cell \u001b[0;32mIn[142], line 1\u001b[0m\n\u001b[0;32m----> 1\u001b[0m \u001b[43mget_ipython\u001b[49m\u001b[43m(\u001b[49m\u001b[43m)\u001b[49m\u001b[38;5;241;43m.\u001b[39;49m\u001b[43mrun_cell_magic\u001b[49m\u001b[43m(\u001b[49m\u001b[38;5;124;43m'\u001b[39;49m\u001b[38;5;124;43msql\u001b[39;49m\u001b[38;5;124;43m'\u001b[39;49m\u001b[43m,\u001b[49m\u001b[43m \u001b[49m\u001b[38;5;124;43m'\u001b[39;49m\u001b[38;5;124;43m'\u001b[39;49m\u001b[43m,\u001b[49m\u001b[43m \u001b[49m\u001b[38;5;124;43m'\u001b[39;49m\u001b[38;5;124;43m    \u001b[39;49m\u001b[38;5;130;43;01m\\n\u001b[39;49;00m\u001b[38;5;124;43mSELECT \u001b[39;49m\u001b[38;5;130;43;01m\\n\u001b[39;49;00m\u001b[38;5;124;43m    file_path \u001b[39;49m\u001b[38;5;130;43;01m\\n\u001b[39;49;00m\u001b[38;5;124;43mFROM demo.nyc.taxis.files LIMIT 20;\u001b[39;49m\u001b[38;5;130;43;01m\\n\u001b[39;49;00m\u001b[38;5;130;43;01m\\n\u001b[39;49;00m\u001b[38;5;124;43mSELECT \u001b[39;49m\u001b[38;5;130;43;01m\\n\u001b[39;49;00m\u001b[38;5;124;43m    content, \u001b[39;49m\u001b[38;5;130;43;01m\\n\u001b[39;49;00m\u001b[38;5;124;43m    file_path \u001b[39;49m\u001b[38;5;130;43;01m\\n\u001b[39;49;00m\u001b[38;5;124;43mFROM demo.nyc.taxis.delete_files;\u001b[39;49m\u001b[38;5;130;43;01m\\n\u001b[39;49;00m\u001b[38;5;130;43;01m\\n\u001b[39;49;00m\u001b[38;5;124;43mDESCRIBE TABLE EXTENDED demo.nyc.taxis;\u001b[39;49m\u001b[38;5;130;43;01m\\n\u001b[39;49;00m\u001b[38;5;124;43m'\u001b[39;49m\u001b[43m)\u001b[49m\n",
      "File \u001b[0;32m/usr/local/lib/python3.10/site-packages/IPython/core/interactiveshell.py:2543\u001b[0m, in \u001b[0;36mInteractiveShell.run_cell_magic\u001b[0;34m(self, magic_name, line, cell)\u001b[0m\n\u001b[1;32m   2541\u001b[0m \u001b[38;5;28;01mwith\u001b[39;00m \u001b[38;5;28mself\u001b[39m\u001b[38;5;241m.\u001b[39mbuiltin_trap:\n\u001b[1;32m   2542\u001b[0m     args \u001b[38;5;241m=\u001b[39m (magic_arg_s, cell)\n\u001b[0;32m-> 2543\u001b[0m     result \u001b[38;5;241m=\u001b[39m \u001b[43mfn\u001b[49m\u001b[43m(\u001b[49m\u001b[38;5;241;43m*\u001b[39;49m\u001b[43margs\u001b[49m\u001b[43m,\u001b[49m\u001b[43m \u001b[49m\u001b[38;5;241;43m*\u001b[39;49m\u001b[38;5;241;43m*\u001b[39;49m\u001b[43mkwargs\u001b[49m\u001b[43m)\u001b[49m\n\u001b[1;32m   2545\u001b[0m \u001b[38;5;66;03m# The code below prevents the output from being displayed\u001b[39;00m\n\u001b[1;32m   2546\u001b[0m \u001b[38;5;66;03m# when using magics with decorator @output_can_be_silenced\u001b[39;00m\n\u001b[1;32m   2547\u001b[0m \u001b[38;5;66;03m# when the last Python token in the expression is a ';'.\u001b[39;00m\n\u001b[1;32m   2548\u001b[0m \u001b[38;5;28;01mif\u001b[39;00m \u001b[38;5;28mgetattr\u001b[39m(fn, magic\u001b[38;5;241m.\u001b[39mMAGIC_OUTPUT_CAN_BE_SILENCED, \u001b[38;5;28;01mFalse\u001b[39;00m):\n",
      "File \u001b[0;32m~/.ipython/profile_default/startup/00-prettytables.py:81\u001b[0m, in \u001b[0;36msql\u001b[0;34m(line, cell)\u001b[0m\n\u001b[1;32m     79\u001b[0m         \u001b[38;5;28;01mreturn\u001b[39;00m _to_table(df, num_rows\u001b[38;5;241m=\u001b[39margs\u001b[38;5;241m.\u001b[39mlimit)\n\u001b[1;32m     80\u001b[0m \u001b[38;5;28;01melse\u001b[39;00m:\n\u001b[0;32m---> 81\u001b[0m     \u001b[38;5;28;01mreturn\u001b[39;00m _to_table(\u001b[43mspark\u001b[49m\u001b[38;5;241;43m.\u001b[39;49m\u001b[43msql\u001b[49m\u001b[43m(\u001b[49m\u001b[43mcell\u001b[49m\u001b[43m)\u001b[49m)\n",
      "File \u001b[0;32m/opt/spark/python/pyspark/sql/session.py:1631\u001b[0m, in \u001b[0;36mSparkSession.sql\u001b[0;34m(self, sqlQuery, args, **kwargs)\u001b[0m\n\u001b[1;32m   1627\u001b[0m         \u001b[38;5;28;01massert\u001b[39;00m \u001b[38;5;28mself\u001b[39m\u001b[38;5;241m.\u001b[39m_jvm \u001b[38;5;129;01mis\u001b[39;00m \u001b[38;5;129;01mnot\u001b[39;00m \u001b[38;5;28;01mNone\u001b[39;00m\n\u001b[1;32m   1628\u001b[0m         litArgs \u001b[38;5;241m=\u001b[39m \u001b[38;5;28mself\u001b[39m\u001b[38;5;241m.\u001b[39m_jvm\u001b[38;5;241m.\u001b[39mPythonUtils\u001b[38;5;241m.\u001b[39mtoArray(\n\u001b[1;32m   1629\u001b[0m             [_to_java_column(lit(v)) \u001b[38;5;28;01mfor\u001b[39;00m v \u001b[38;5;129;01min\u001b[39;00m (args \u001b[38;5;129;01mor\u001b[39;00m [])]\n\u001b[1;32m   1630\u001b[0m         )\n\u001b[0;32m-> 1631\u001b[0m     \u001b[38;5;28;01mreturn\u001b[39;00m DataFrame(\u001b[38;5;28;43mself\u001b[39;49m\u001b[38;5;241;43m.\u001b[39;49m\u001b[43m_jsparkSession\u001b[49m\u001b[38;5;241;43m.\u001b[39;49m\u001b[43msql\u001b[49m\u001b[43m(\u001b[49m\u001b[43msqlQuery\u001b[49m\u001b[43m,\u001b[49m\u001b[43m \u001b[49m\u001b[43mlitArgs\u001b[49m\u001b[43m)\u001b[49m, \u001b[38;5;28mself\u001b[39m)\n\u001b[1;32m   1632\u001b[0m \u001b[38;5;28;01mfinally\u001b[39;00m:\n\u001b[1;32m   1633\u001b[0m     \u001b[38;5;28;01mif\u001b[39;00m \u001b[38;5;28mlen\u001b[39m(kwargs) \u001b[38;5;241m>\u001b[39m \u001b[38;5;241m0\u001b[39m:\n",
      "File \u001b[0;32m/opt/spark/python/lib/py4j-0.10.9.7-src.zip/py4j/java_gateway.py:1322\u001b[0m, in \u001b[0;36mJavaMember.__call__\u001b[0;34m(self, *args)\u001b[0m\n\u001b[1;32m   1316\u001b[0m command \u001b[38;5;241m=\u001b[39m proto\u001b[38;5;241m.\u001b[39mCALL_COMMAND_NAME \u001b[38;5;241m+\u001b[39m\\\n\u001b[1;32m   1317\u001b[0m     \u001b[38;5;28mself\u001b[39m\u001b[38;5;241m.\u001b[39mcommand_header \u001b[38;5;241m+\u001b[39m\\\n\u001b[1;32m   1318\u001b[0m     args_command \u001b[38;5;241m+\u001b[39m\\\n\u001b[1;32m   1319\u001b[0m     proto\u001b[38;5;241m.\u001b[39mEND_COMMAND_PART\n\u001b[1;32m   1321\u001b[0m answer \u001b[38;5;241m=\u001b[39m \u001b[38;5;28mself\u001b[39m\u001b[38;5;241m.\u001b[39mgateway_client\u001b[38;5;241m.\u001b[39msend_command(command)\n\u001b[0;32m-> 1322\u001b[0m return_value \u001b[38;5;241m=\u001b[39m \u001b[43mget_return_value\u001b[49m\u001b[43m(\u001b[49m\n\u001b[1;32m   1323\u001b[0m \u001b[43m    \u001b[49m\u001b[43manswer\u001b[49m\u001b[43m,\u001b[49m\u001b[43m \u001b[49m\u001b[38;5;28;43mself\u001b[39;49m\u001b[38;5;241;43m.\u001b[39;49m\u001b[43mgateway_client\u001b[49m\u001b[43m,\u001b[49m\u001b[43m \u001b[49m\u001b[38;5;28;43mself\u001b[39;49m\u001b[38;5;241;43m.\u001b[39;49m\u001b[43mtarget_id\u001b[49m\u001b[43m,\u001b[49m\u001b[43m \u001b[49m\u001b[38;5;28;43mself\u001b[39;49m\u001b[38;5;241;43m.\u001b[39;49m\u001b[43mname\u001b[49m\u001b[43m)\u001b[49m\n\u001b[1;32m   1325\u001b[0m \u001b[38;5;28;01mfor\u001b[39;00m temp_arg \u001b[38;5;129;01min\u001b[39;00m temp_args:\n\u001b[1;32m   1326\u001b[0m     \u001b[38;5;28;01mif\u001b[39;00m \u001b[38;5;28mhasattr\u001b[39m(temp_arg, \u001b[38;5;124m\"\u001b[39m\u001b[38;5;124m_detach\u001b[39m\u001b[38;5;124m\"\u001b[39m):\n",
      "File \u001b[0;32m/opt/spark/python/pyspark/errors/exceptions/captured.py:185\u001b[0m, in \u001b[0;36mcapture_sql_exception.<locals>.deco\u001b[0;34m(*a, **kw)\u001b[0m\n\u001b[1;32m    181\u001b[0m converted \u001b[38;5;241m=\u001b[39m convert_exception(e\u001b[38;5;241m.\u001b[39mjava_exception)\n\u001b[1;32m    182\u001b[0m \u001b[38;5;28;01mif\u001b[39;00m \u001b[38;5;129;01mnot\u001b[39;00m \u001b[38;5;28misinstance\u001b[39m(converted, UnknownException):\n\u001b[1;32m    183\u001b[0m     \u001b[38;5;66;03m# Hide where the exception came from that shows a non-Pythonic\u001b[39;00m\n\u001b[1;32m    184\u001b[0m     \u001b[38;5;66;03m# JVM exception message.\u001b[39;00m\n\u001b[0;32m--> 185\u001b[0m     \u001b[38;5;28;01mraise\u001b[39;00m converted \u001b[38;5;28;01mfrom\u001b[39;00m\u001b[38;5;250m \u001b[39m\u001b[38;5;28;01mNone\u001b[39;00m\n\u001b[1;32m    186\u001b[0m \u001b[38;5;28;01melse\u001b[39;00m:\n\u001b[1;32m    187\u001b[0m     \u001b[38;5;28;01mraise\u001b[39;00m\n",
      "\u001b[0;31mParseException\u001b[0m: \n[PARSE_SYNTAX_ERROR] Syntax error at or near 'SELECT': extra input 'SELECT'.(line 6, pos 0)\n\n== SQL ==\n    \nSELECT \n    file_path \nFROM demo.nyc.taxis.files LIMIT 20;\n\nSELECT \n^^^\n    content, \n    file_path \nFROM demo.nyc.taxis.delete_files;\n\nDESCRIBE TABLE EXTENDED demo.nyc.taxis;\n"
     ]
    }
   ],
   "source": [
    "%%sql\n",
    "    \n",
    "SELECT \n",
    "    file_path \n",
    "FROM demo.nyc.taxis.files LIMIT 20;\n",
    "\n",
    "SELECT \n",
    "    content, \n",
    "    file_path \n",
    "FROM demo.nyc.taxis.delete_files;\n",
    "\n",
    "DESCRIBE TABLE EXTENDED demo.nyc.taxis;"
   ]
  },
  {
   "cell_type": "code",
   "execution_count": null,
   "id": "6b42e50a-2278-47e4-b0ab-e5b231cddd64",
   "metadata": {},
   "outputs": [],
   "source": []
  }
 ],
 "metadata": {
  "kernelspec": {
   "display_name": "Python 3 (ipykernel)",
   "language": "python",
   "name": "python3"
  },
  "language_info": {
   "codemirror_mode": {
    "name": "ipython",
    "version": 3
   },
   "file_extension": ".py",
   "mimetype": "text/x-python",
   "name": "python",
   "nbconvert_exporter": "python",
   "pygments_lexer": "ipython3",
   "version": "3.10.16"
  }
 },
 "nbformat": 4,
 "nbformat_minor": 5
}
